{
  "nbformat": 4,
  "nbformat_minor": 0,
  "metadata": {
    "colab": {
      "provenance": []
    },
    "kernelspec": {
      "name": "python3",
      "display_name": "Python 3"
    },
    "language_info": {
      "name": "python"
    }
  },
  "cells": [
    {
      "cell_type": "code",
      "execution_count": 28,
      "metadata": {
        "id": "oIKjTHPx8WAT"
      },
      "outputs": [],
      "source": [
        "import numpy as np\n",
        "import matplotlib.pyplot as plt\n",
        "from tensorflow.keras.datasets import fashion_mnist"
      ]
    },
    {
      "cell_type": "code",
      "source": [
        "(x_train, y_train), (x_test, y_test) = fashion_mnist.load_data()\n",
        "x_train = x_train.reshape(-1, 784) / 255.0  # Flatten and normalize\n",
        "x_test = x_test.reshape(-1, 784) / 255.0"
      ],
      "metadata": {
        "id": "ANgSzQUR8iCc"
      },
      "execution_count": 29,
      "outputs": []
    },
    {
      "cell_type": "code",
      "source": [
        "def one_hot_encode(y, num_classes):\n",
        "    return np.eye(num_classes)[y]"
      ],
      "metadata": {
        "id": "3fE5JOwN8_qq"
      },
      "execution_count": 31,
      "outputs": []
    },
    {
      "cell_type": "code",
      "source": [
        "y_train_encoded = one_hot_encode(y_train, 10)\n",
        "y_test_encoded = one_hot_encode(y_test, 10)"
      ],
      "metadata": {
        "id": "ZlVxTD0N8_48"
      },
      "execution_count": 32,
      "outputs": []
    },
    {
      "cell_type": "code",
      "source": [
        "class NeuralNetwork:\n",
        "    def __init__(self, input_size, hidden_size, output_size, learning_rate=0.02, l2_lambda=0.0003):\n",
        "        self.input_size = input_size\n",
        "        self.hidden_size = hidden_size\n",
        "        self.output_size = output_size\n",
        "        self.learning_rate = learning_rate\n",
        "        self.l2_lambda = l2_lambda\n",
        "        self.weights1 = np.random.randn(input_size, hidden_size) * np.sqrt(2. / input_size)\n",
        "        self.weights2 = np.random.randn(hidden_size, output_size) * np.sqrt(2. / hidden_size)\n",
        "        self.bias1 = np.zeros((1, hidden_size))\n",
        "        self.bias2 = np.zeros((1, output_size))\n",
        "\n",
        "    def forward(self, x):\n",
        "        self.z1 = np.dot(x, self.weights1) + self.bias1\n",
        "        self.a1 = np.maximum(0, self.z1)  # ReLU activation\n",
        "        self.z2 = np.dot(self.a1, self.weights2) + self.bias2\n",
        "        exp_scores = np.exp(self.z2 - np.max(self.z2, axis=1, keepdims=True))\n",
        "        self.probs = exp_scores / np.sum(exp_scores, axis=1, keepdims=True)\n",
        "        return self.probs\n",
        "\n",
        "    def backward(self, x, y):\n",
        "        num_samples = x.shape[0]\n",
        "        delta3 = self.probs - y\n",
        "        dW2 = (1 / num_samples) * np.dot(self.a1.T, delta3) + self.l2_lambda * self.weights2\n",
        "        db2 = (1 / num_samples) * np.sum(delta3, axis=0, keepdims=True)\n",
        "        delta2 = np.dot(delta3, self.weights2.T) * (self.a1 > 0)\n",
        "        dW1 = (1 / num_samples) * np.dot(x.T, delta2) + self.l2_lambda * self.weights1\n",
        "        db1 = (1 / num_samples) * np.sum(delta2, axis=0, keepdims=True)\n",
        "        self.weights1 -= self.learning_rate * dW1\n",
        "        self.weights2 -= self.learning_rate * dW2\n",
        "        self.bias1 -= self.learning_rate * db1\n",
        "        self.bias2 -= self.learning_rate * db2\n",
        "\n",
        "    def compute_loss(self, y):\n",
        "        log_probs = -np.log(self.probs[range(len(y)), np.argmax(y, axis=1)])\n",
        "        data_loss = np.sum(log_probs) / len(y)\n",
        "        data_loss += (self.l2_lambda / 2) * (np.sum(np.square(self.weights1)) + np.sum(np.square(self.weights2)))\n",
        "        return data_loss\n",
        "\n",
        "    def train(self, x, y, epochs):\n",
        "        for epoch in range(epochs):\n",
        "            self.forward(x)\n",
        "            self.backward(x, y)\n",
        "            if epoch % 100 == 0:\n",
        "                loss = self.compute_loss(y)\n",
        "                print(f\"Epoch {epoch}, Loss: {loss:.4f}\")\n",
        "\n",
        "    def predict(self, x):\n",
        "        probs = self.forward(x)\n",
        "        return np.argmax(probs, axis=1)"
      ],
      "metadata": {
        "id": "wz5dyMcw8_7S"
      },
      "execution_count": 33,
      "outputs": []
    },
    {
      "cell_type": "code",
      "source": [
        "input_size = 784\n",
        "hidden_size = 128\n",
        "output_size = 10\n",
        "learning_rate = 0.02\n",
        "epochs = 1000"
      ],
      "metadata": {
        "id": "MQTVhpA59anb"
      },
      "execution_count": 34,
      "outputs": []
    },
    {
      "cell_type": "code",
      "source": [
        "nn_l2 = NeuralNetwork(input_size, hidden_size, output_size, learning_rate, l2_lambda=0.0003)\n",
        "nn_l2.train(x_train, y_train_encoded, epochs)"
      ],
      "metadata": {
        "colab": {
          "base_uri": "https://localhost:8080/"
        },
        "id": "Eagi40sD9b1I",
        "outputId": "ce9ccc85-12ef-4836-e420-16aac5c641e6"
      },
      "execution_count": 35,
      "outputs": [
        {
          "output_type": "stream",
          "name": "stdout",
          "text": [
            "Epoch 0, Loss: 2.5121\n",
            "Epoch 100, Loss: 1.0038\n",
            "Epoch 200, Loss: 0.8265\n",
            "Epoch 300, Loss: 0.7450\n",
            "Epoch 400, Loss: 0.6943\n",
            "Epoch 500, Loss: 0.6587\n",
            "Epoch 600, Loss: 0.6323\n",
            "Epoch 700, Loss: 0.6119\n",
            "Epoch 800, Loss: 0.5957\n",
            "Epoch 900, Loss: 0.5823\n"
          ]
        }
      ]
    },
    {
      "cell_type": "code",
      "source": [
        "predictions = nn_l2.predict(x_test)\n",
        "accuracy = np.mean(predictions == np.argmax(y_test_encoded, axis=1))\n",
        "print(f\"Test Accuracy (Adjusted L2 Regularization): {accuracy:.4f}\")"
      ],
      "metadata": {
        "colab": {
          "base_uri": "https://localhost:8080/"
        },
        "id": "3DJz-XTK9h9W",
        "outputId": "26fbff24-86ae-4594-969e-953772bac7b5"
      },
      "execution_count": 36,
      "outputs": [
        {
          "output_type": "stream",
          "name": "stdout",
          "text": [
            "Test Accuracy (Adjusted L2 Regularization): 0.8153\n"
          ]
        }
      ]
    },
    {
      "cell_type": "code",
      "source": [
        "def plot_predictions(X, y_true, y_pred, num_images=10):\n",
        "    plt.figure(figsize=(10, 5))\n",
        "    for i in range(num_images):\n",
        "        plt.subplot(2, 5, i + 1)\n",
        "        plt.imshow(X[i].reshape(28, 28), cmap='gray')\n",
        "        plt.title(f'True: {y_true[i]}\\nPred: {y_pred[i]}')\n",
        "        plt.axis('off')\n",
        "    plt.tight_layout()\n",
        "    plt.show()"
      ],
      "metadata": {
        "id": "DGCqenFA9kuW"
      },
      "execution_count": 37,
      "outputs": []
    },
    {
      "cell_type": "code",
      "source": [
        "plot_predictions(x_test, y_test, predictions)\n"
      ],
      "metadata": {
        "colab": {
          "base_uri": "https://localhost:8080/",
          "height": 494
        },
        "id": "G3P_K-2E9m-_",
        "outputId": "806f382b-cae9-4db3-b778-e59605b2a1cc"
      },
      "execution_count": 38,
      "outputs": [
        {
          "output_type": "display_data",
          "data": {
            "text/plain": [
              "<Figure size 1000x500 with 10 Axes>"
            ],
            "image/png": "[encoded data removed]"
          },
          "metadata": {}
        }
      ]
    }
  ]
}